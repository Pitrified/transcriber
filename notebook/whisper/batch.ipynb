{
 "cells": [
  {
   "cell_type": "code",
   "execution_count": null,
   "metadata": {},
   "outputs": [],
   "source": [
    "%load_ext autoreload\n",
    "%autoreload 2"
   ]
  },
  {
   "cell_type": "code",
   "execution_count": null,
   "metadata": {},
   "outputs": [],
   "source": [
    "from transcriber.data.utils import get_resource\n",
    "\n",
    "data_fol = get_resource(\"data_fol\")\n",
    "course_fol = data_fol / \"course\"\n",
    "videos_fol = course_fol / \"videos\"\n",
    "output_fol = course_fol / \"transcripts\"\n",
    "tmp_audio = get_resource(\"tmp_audio\")"
   ]
  },
  {
   "cell_type": "code",
   "execution_count": null,
   "metadata": {},
   "outputs": [],
   "source": [
    "# create the transcripts folder\n",
    "from transcriber.data.utils import check_create_fol\n",
    "\n",
    "\n",
    "check_create_fol(output_fol)"
   ]
  },
  {
   "cell_type": "code",
   "execution_count": null,
   "metadata": {},
   "outputs": [],
   "source": [
    "# delete the output folder and the contents\n",
    "# import shutil\n",
    "# shutil.rmtree(output_fol)"
   ]
  },
  {
   "cell_type": "code",
   "execution_count": null,
   "metadata": {},
   "outputs": [],
   "source": [
    "import whisper\n",
    "\n",
    "model_type = \"medium\"\n",
    "model = whisper.load_model(model_type)"
   ]
  },
  {
   "cell_type": "code",
   "execution_count": null,
   "metadata": {},
   "outputs": [],
   "source": [
    "from pathlib import Path\n",
    "from pydub import AudioSegment\n",
    "\n",
    "\n",
    "def extract_audio(video_fp: Path, audio_fp: Path, audio_format: str = \"mp3\") -> None:\n",
    "    video_format = video_fp.suffix[1:]\n",
    "    video = AudioSegment.from_file(video_fp, format=video_format)\n",
    "    audio = video.set_channels(1).set_frame_rate(16000).set_sample_width(2)\n",
    "    audio.export(audio_fp, format=audio_format)"
   ]
  },
  {
   "cell_type": "code",
   "execution_count": null,
   "metadata": {},
   "outputs": [],
   "source": [
    "from whisper import Whisper\n",
    "\n",
    "\n",
    "def extract_text(audio_fp: Path, model: Whisper) -> str:\n",
    "    result = model.transcribe(str(audio_fp))\n",
    "    return result[\"text\"]"
   ]
  },
  {
   "cell_type": "code",
   "execution_count": null,
   "metadata": {},
   "outputs": [],
   "source": [
    "# iterate the topics in the course\n",
    "for topic_fol in videos_fol.iterdir():\n",
    "    if not topic_fol.is_dir():\n",
    "        continue\n",
    "    topic_name = topic_fol.name\n",
    "    print(topic_name)\n",
    "    # create the topic folder in the output folder\n",
    "    topic_output_fol = output_fol / topic_name\n",
    "    check_create_fol(topic_output_fol)\n",
    "\n",
    "    # iterate the videos in the topic\n",
    "    for video_fp in topic_fol.iterdir():\n",
    "        video_name = video_fp.stem\n",
    "        print(\"  \", video_name)\n",
    "        # build the output txt file name\n",
    "        transcript_fp = topic_output_fol / f\"{video_name}.txt\"\n",
    "        # if the transcript file already exists, skip\n",
    "        if transcript_fp.exists():\n",
    "            continue\n",
    "        # extract the audio from the video\n",
    "        extract_audio(video_fp, tmp_audio)\n",
    "        # extract the text from the audio\n",
    "        text = extract_text(tmp_audio, model)\n",
    "        # write the text to the transcript file\n",
    "        transcript_fp.write_text(text)\n",
    "    #     break\n",
    "    # break"
   ]
  }
 ],
 "metadata": {
  "kernelspec": {
   "display_name": "transcriber-cm8gQC0C-py3.10",
   "language": "python",
   "name": "python3"
  },
  "language_info": {
   "codemirror_mode": {
    "name": "ipython",
    "version": 3
   },
   "file_extension": ".py",
   "mimetype": "text/x-python",
   "name": "python",
   "nbconvert_exporter": "python",
   "pygments_lexer": "ipython3",
   "version": "3.10.12"
  }
 },
 "nbformat": 4,
 "nbformat_minor": 2
}
