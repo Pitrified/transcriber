{
 "cells": [
  {
   "cell_type": "markdown",
   "metadata": {},
   "source": [
    "# Sample use of pydub and whisper\n"
   ]
  },
  {
   "cell_type": "code",
   "execution_count": null,
   "metadata": {},
   "outputs": [],
   "source": [
    "%load_ext autoreload\n",
    "%autoreload 2"
   ]
  },
  {
   "cell_type": "code",
   "execution_count": null,
   "metadata": {},
   "outputs": [],
   "source": [
    "from transcriber.data.utils import get_resource\n",
    "\n",
    "sample_fol = get_resource(\"sample_fol\")\n",
    "sample_vid_fp = sample_fol / \"video01.mp4\"\n",
    "sample_aud_fp = sample_fol / \"audio01.mp3\""
   ]
  },
  {
   "cell_type": "code",
   "execution_count": null,
   "metadata": {},
   "outputs": [],
   "source": [
    "# import speech_recognition as sr\n",
    "from pydub import AudioSegment\n",
    "\n",
    "# Load the video file\n",
    "video = AudioSegment.from_file(sample_vid_fp, format=\"mp4\")\n",
    "audio = video.set_channels(1).set_frame_rate(16000).set_sample_width(2)\n",
    "audio.export(sample_aud_fp, format=\"mp3\")"
   ]
  },
  {
   "cell_type": "code",
   "execution_count": null,
   "metadata": {},
   "outputs": [],
   "source": [
    "sample_vid_fp.suffix"
   ]
  },
  {
   "cell_type": "code",
   "execution_count": null,
   "metadata": {},
   "outputs": [],
   "source": [
    "import whisper\n",
    "\n",
    "model_type = \"medium\"\n",
    "model = whisper.load_model(model_type)\n",
    "result = model.transcribe(str(sample_aud_fp))\n",
    "print(result[\"text\"])"
   ]
  },
  {
   "cell_type": "code",
   "execution_count": null,
   "metadata": {},
   "outputs": [],
   "source": [
    "# dump the result in a txt\n",
    "sample_txt_fp = sample_fol / f\"audio01_{model_type}.txt\"\n",
    "sample_txt_fp.write_text(result[\"text\"])"
   ]
  }
 ],
 "metadata": {
  "kernelspec": {
   "display_name": "transcriber-cm8gQC0C-py3.10",
   "language": "python",
   "name": "python3"
  },
  "language_info": {
   "codemirror_mode": {
    "name": "ipython",
    "version": 3
   },
   "file_extension": ".py",
   "mimetype": "text/x-python",
   "name": "python",
   "nbconvert_exporter": "python",
   "pygments_lexer": "ipython3",
   "version": "3.10.12"
  }
 },
 "nbformat": 4,
 "nbformat_minor": 2
}
